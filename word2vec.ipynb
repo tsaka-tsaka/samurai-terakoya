{
  "nbformat": 4,
  "nbformat_minor": 0,
  "metadata": {
    "colab": {
      "provenance": []
    },
    "kernelspec": {
      "name": "python3",
      "display_name": "Python 3"
    },
    "language_info": {
      "name": "python"
    }
  },
  "cells": [
    {
      "cell_type": "markdown",
      "source": [
        "テキストの内容で復習"
      ],
      "metadata": {
        "id": "fSMdpsWUZhF7"
      }
    },
    {
      "cell_type": "code",
      "execution_count": null,
      "metadata": {
        "colab": {
          "base_uri": "https://localhost:8080/"
        },
        "id": "z9jnSQlf2DMy",
        "outputId": "2ba751e6-25ca-4939-83d9-4b983a870ea8"
      },
      "outputs": [
        {
          "output_type": "stream",
          "name": "stdout",
          "text": [
            "Requirement already satisfied: gensim in /usr/local/lib/python3.10/dist-packages (4.3.2)\n",
            "Requirement already satisfied: numpy>=1.18.5 in /usr/local/lib/python3.10/dist-packages (from gensim) (1.25.2)\n",
            "Requirement already satisfied: scipy>=1.7.0 in /usr/local/lib/python3.10/dist-packages (from gensim) (1.11.4)\n",
            "Requirement already satisfied: smart-open>=1.8.1 in /usr/local/lib/python3.10/dist-packages (from gensim) (6.4.0)\n"
          ]
        }
      ],
      "source": [
        "!pip install gensim"
      ]
    },
    {
      "cell_type": "code",
      "source": [
        "import gensim.downloader as api\n",
        "\n",
        "corpus = api.load(\"text8\")\n"
      ],
      "metadata": {
        "colab": {
          "base_uri": "https://localhost:8080/"
        },
        "id": "zF615p6h2J-0",
        "outputId": "68c1f04a-4289-4a2d-dad0-76361647afa5"
      },
      "execution_count": 1,
      "outputs": [
        {
          "output_type": "stream",
          "name": "stdout",
          "text": [
            "[==================================================] 100.0% 31.6/31.6MB downloaded\n"
          ]
        }
      ]
    },
    {
      "cell_type": "code",
      "source": [
        "api.info('text8')"
      ],
      "metadata": {
        "colab": {
          "base_uri": "https://localhost:8080/"
        },
        "id": "54BotneI2U2r",
        "outputId": "40dd7bf9-e31e-4038-8833-88f99958d41e"
      },
      "execution_count": 2,
      "outputs": [
        {
          "output_type": "execute_result",
          "data": {
            "text/plain": [
              "{'num_records': 1701,\n",
              " 'record_format': 'list of str (tokens)',\n",
              " 'file_size': 33182058,\n",
              " 'reader_code': 'https://github.com/RaRe-Technologies/gensim-data/releases/download/text8/__init__.py',\n",
              " 'license': 'not found',\n",
              " 'description': 'First 100,000,000 bytes of plain text from Wikipedia. Used for testing purposes; see wiki-english-* for proper full Wikipedia datasets.',\n",
              " 'checksum': '68799af40b6bda07dfa47a32612e5364',\n",
              " 'file_name': 'text8.gz',\n",
              " 'read_more': ['http://mattmahoney.net/dc/textdata.html'],\n",
              " 'parts': 1}"
            ]
          },
          "metadata": {},
          "execution_count": 2
        }
      ]
    },
    {
      "cell_type": "code",
      "source": [
        "from gensim.models import Word2Vec\n",
        "model=Word2Vec(corpus)"
      ],
      "metadata": {
        "id": "HlWjS7ob2ghy"
      },
      "execution_count": 3,
      "outputs": []
    },
    {
      "cell_type": "code",
      "source": [
        "print(model)"
      ],
      "metadata": {
        "colab": {
          "base_uri": "https://localhost:8080/"
        },
        "id": "lsD0ZRBW2gZv",
        "outputId": "5f52ed18-32b1-4b32-fa1e-6b7e80cdf39c"
      },
      "execution_count": 4,
      "outputs": [
        {
          "output_type": "stream",
          "name": "stdout",
          "text": [
            "Word2Vec<vocab=71290, vector_size=100, alpha=0.025>\n"
          ]
        }
      ]
    },
    {
      "cell_type": "code",
      "source": [
        "similarity_words=model.wv.most_similar('japan')"
      ],
      "metadata": {
        "id": "r7XGzjPh3llo"
      },
      "execution_count": 5,
      "outputs": []
    },
    {
      "cell_type": "code",
      "source": [
        "similarity_words"
      ],
      "metadata": {
        "colab": {
          "base_uri": "https://localhost:8080/"
        },
        "id": "Mc8_WaUU4qKu",
        "outputId": "0b4fa04c-0f6f-4051-d691-dd37e3a20fe4"
      },
      "execution_count": 6,
      "outputs": [
        {
          "output_type": "execute_result",
          "data": {
            "text/plain": [
              "[('china', 0.7827277779579163),\n",
              " ('taiwan', 0.6725131273269653),\n",
              " ('indonesia', 0.6247941255569458),\n",
              " ('india', 0.616226851940155),\n",
              " ('turkey', 0.5950326919555664),\n",
              " ('singapore', 0.5851190090179443),\n",
              " ('japanese', 0.5850614309310913),\n",
              " ('pakistan', 0.5842422246932983),\n",
              " ('europe', 0.5789769887924194),\n",
              " ('thailand', 0.5761356949806213)]"
            ]
          },
          "metadata": {},
          "execution_count": 6
        }
      ]
    },
    {
      "cell_type": "markdown",
      "source": [
        "Embedingの挙動の確認"
      ],
      "metadata": {
        "id": "vl3gNdl0Zlm-"
      }
    },
    {
      "cell_type": "code",
      "source": [
        "\n",
        "from tensorflow.keras import Sequential\n",
        "from tensorflow.keras.layers import Dense, Embedding\n",
        "from tensorflow.keras.preprocessing.text import Tokenizer\n",
        "from tensorflow.keras.preprocessing.sequence import pad_sequences\n",
        "from tensorflow.keras import utils\n"
      ],
      "metadata": {
        "id": "IoAhqho74rUQ"
      },
      "execution_count": 7,
      "outputs": []
    },
    {
      "cell_type": "code",
      "source": [
        "#text_base='Hope to see you soon. Nice to see you again.'\n",
        "text_base=['Hope to see you soon.',' Nice to see you again.']"
      ],
      "metadata": {
        "id": "4DyEh_sn9DjH"
      },
      "execution_count": 8,
      "outputs": []
    },
    {
      "cell_type": "code",
      "source": [
        "text1=['Hope to see you soon.']\n",
        "text2=['Nice to see you again.']"
      ],
      "metadata": {
        "id": "Sn0kbLAK6gAD"
      },
      "execution_count": 56,
      "outputs": []
    },
    {
      "cell_type": "code",
      "source": [
        "tokenizer=Tokenizer(num_words=10)\n",
        "tokenizer.fit_on_texts(text_base)\n"
      ],
      "metadata": {
        "id": "F05ZVGIG69HK"
      },
      "execution_count": 9,
      "outputs": []
    },
    {
      "cell_type": "code",
      "source": [
        "text1_tokenizer=tokenizer.texts_to_sequences(text1)\n",
        "print(text1_tokenizer)\n",
        "text1_tokenizer=pad_sequences(text1_tokenizer, maxlen=10)\n",
        "text2_tokenizer=tokenizer.texts_to_sequences(text2)\n",
        "print(text2_tokenizer)\n",
        "text2_tokenizer=pad_sequences(text2_tokenizer, maxlen=10)"
      ],
      "metadata": {
        "colab": {
          "base_uri": "https://localhost:8080/"
        },
        "id": "yQ6KiFCu6qwK",
        "outputId": "b69638fe-8d2b-4a09-9c62-448951a2fe5b"
      },
      "execution_count": 12,
      "outputs": [
        {
          "output_type": "stream",
          "name": "stdout",
          "text": [
            "[[4, 1, 2, 3, 5]]\n",
            "[[6, 1, 2, 3, 7]]\n"
          ]
        }
      ]
    },
    {
      "cell_type": "code",
      "source": [
        "text_base_tokenizer=tokenizer.texts_to_sequences(text_base)\n",
        "text_base_tokenizer=pad_sequences(text_base_tokenizer, maxlen=5)"
      ],
      "metadata": {
        "id": "rK0gEXKcGNl5"
      },
      "execution_count": 13,
      "outputs": []
    },
    {
      "cell_type": "code",
      "source": [
        "text_base_tokenizer"
      ],
      "metadata": {
        "colab": {
          "base_uri": "https://localhost:8080/"
        },
        "id": "dUrtApBB6qtO",
        "outputId": "c8374301-1c50-471e-9589-fd536fc3af8c"
      },
      "execution_count": 14,
      "outputs": [
        {
          "output_type": "execute_result",
          "data": {
            "text/plain": [
              "array([[4, 1, 2, 3, 5],\n",
              "       [6, 1, 2, 3, 7]], dtype=int32)"
            ]
          },
          "metadata": {},
          "execution_count": 14
        }
      ]
    },
    {
      "cell_type": "code",
      "source": [
        "utils.set_random_seed(10)\n",
        "model2=Sequential()\n",
        "model2.add(Embedding(20,2))\n",
        "model2.compile(optimizer='rmsprop', loss='mse')\n",
        "\n",
        "output_array = model2.predict(text_base_tokenizer)\n",
        "print(output_array)"
      ],
      "metadata": {
        "colab": {
          "base_uri": "https://localhost:8080/"
        },
        "id": "Ct1R9Q_27b6k",
        "outputId": "66c528ed-d7af-4564-88b8-b71bc665d12f"
      },
      "execution_count": 15,
      "outputs": [
        {
          "output_type": "stream",
          "name": "stdout",
          "text": [
            "1/1 [==============================] - 0s 98ms/step\n",
            "[[[-0.0198861   0.00308717]\n",
            "  [ 0.04169953  0.00088676]\n",
            "  [ 0.00484879  0.02940765]\n",
            "  [-0.00805895 -0.02865348]\n",
            "  [ 0.02818674  0.04289735]]\n",
            "\n",
            " [[-0.00579723 -0.02581127]\n",
            "  [ 0.04169953  0.00088676]\n",
            "  [ 0.00484879  0.02940765]\n",
            "  [-0.00805895 -0.02865348]\n",
            "  [ 0.04063629  0.04968664]]]\n"
          ]
        }
      ]
    },
    {
      "cell_type": "code",
      "source": [
        "output_array[0]"
      ],
      "metadata": {
        "id": "KFj1j56rAHb9",
        "colab": {
          "base_uri": "https://localhost:8080/"
        },
        "outputId": "70b93976-001f-42fa-9275-006c8a66caa8"
      },
      "execution_count": 16,
      "outputs": [
        {
          "output_type": "execute_result",
          "data": {
            "text/plain": [
              "array([[-0.0198861 ,  0.00308717],\n",
              "       [ 0.04169953,  0.00088676],\n",
              "       [ 0.00484879,  0.02940765],\n",
              "       [-0.00805895, -0.02865348],\n",
              "       [ 0.02818674,  0.04289735]], dtype=float32)"
            ]
          },
          "metadata": {},
          "execution_count": 16
        }
      ]
    },
    {
      "cell_type": "code",
      "source": [
        "import pandas as pd\n",
        "import numpy as np"
      ],
      "metadata": {
        "id": "0WnxLL0pEzc3"
      },
      "execution_count": 18,
      "outputs": []
    },
    {
      "cell_type": "code",
      "source": [
        "x=output_array[0]\n",
        "y=output_array[1]"
      ],
      "metadata": {
        "id": "ij4hHxAqHjI3"
      },
      "execution_count": 48,
      "outputs": []
    },
    {
      "cell_type": "code",
      "source": [
        "len(output_array[0])"
      ],
      "metadata": {
        "colab": {
          "base_uri": "https://localhost:8080/"
        },
        "id": "3SgyNbSaI9El",
        "outputId": "2fb3376a-aa82-4b72-d8f5-403348dd1fc5"
      },
      "execution_count": 50,
      "outputs": [
        {
          "output_type": "execute_result",
          "data": {
            "text/plain": [
              "5"
            ]
          },
          "metadata": {},
          "execution_count": 50
        }
      ]
    },
    {
      "cell_type": "code",
      "source": [
        "x=np.array([[1,1],[1,1],[1,1]])\n",
        "y=np.array([[2,2],[2,2],[2,2]])"
      ],
      "metadata": {
        "id": "4pEspW-WI23F"
      },
      "execution_count": 44,
      "outputs": []
    },
    {
      "cell_type": "code",
      "source": [
        "lists=[]\n",
        "for i in range(len(output_array[0])):\n",
        "  for f in range(len(output_array[1])):\n",
        "    x=output_array[0][i]\n",
        "    y=output_array[1][f]\n",
        "    cos_sim=np.dot(x,y)/(np.linalg.norm(x)*np.linalg.norm(y))\n",
        "    if i==0:\n",
        "      sent1='Hope'\n",
        "    elif i==1:\n",
        "      sent1='to'\n",
        "    elif i==2:\n",
        "      sent1='see'\n",
        "    elif i==3:\n",
        "      sent1='you'\n",
        "    else:\n",
        "      sent1='soon.'\n",
        "    if f==0:\n",
        "      sent2='Nice'\n",
        "    elif f==1:\n",
        "      sent2='to'\n",
        "    elif f==2:\n",
        "      sent2='see'\n",
        "    elif f==3:\n",
        "      sent2='you'\n",
        "    else:\n",
        "      sent2='again.'\n",
        "\n",
        "    print(f'{sent1},{sent2}', cos_sim)\n",
        "\n",
        "\n"
      ],
      "metadata": {
        "colab": {
          "base_uri": "https://localhost:8080/"
        },
        "id": "aVfQzlcDJAIB",
        "outputId": "04af9481-5fc7-47dc-f61c-ad51ad6eedf4"
      },
      "execution_count": 61,
      "outputs": [
        {
          "output_type": "stream",
          "name": "stdout",
          "text": [
            "Hope,Nice 0.119870394\n",
            "Hope,to -0.4144323\n",
            "Hope,see 0.99999994\n",
            "Hope,you -0.9846785\n",
            "Hope,again. -0.009398132\n",
            "to,Nice -0.29115602\n",
            "to,to 0.56678194\n",
            "to,see -0.9846785\n",
            "to,you 0.99999994\n",
            "to,again. 0.18362603\n",
            "see,Nice -0.9938723\n",
            "see,to 0.9139349\n",
            "see,see -0.009398132\n",
            "see,you 0.18362603\n",
            "see,again. 1.0\n",
            "you,Nice 1.0\n",
            "you,to -0.9531963\n",
            "you,see 0.119870394\n",
            "you,you -0.29115602\n",
            "you,again. -0.9938723\n",
            "soon.,Nice -0.9531963\n",
            "soon.,to 1.0\n",
            "soon.,see -0.4144323\n",
            "soon.,you 0.56678194\n",
            "soon.,again. 0.9139349\n"
          ]
        }
      ]
    },
    {
      "cell_type": "markdown",
      "source": [
        "text1=['Hope to see you soon.']\n",
        "text2=['Nice to see you again.']\n"
      ],
      "metadata": {
        "id": "abb26YchKjLM"
      }
    },
    {
      "cell_type": "code",
      "source": [
        "text_base=['Hope to see you soon.',' You soon hope to see.']\n",
        "\n",
        "text_base_tokenizer=tokenizer.texts_to_sequences(text_base)\n",
        "text_base_tokenizer=pad_sequences(text_base_tokenizer, maxlen=5)\n",
        "\n",
        "utils.set_random_seed(10)\n",
        "model2=Sequential()\n",
        "model2.add(Embedding(20,2))\n",
        "model2.compile(optimizer='rmsprop', loss='mse')\n",
        "\n",
        "output_array = model2.predict(text_base_tokenizer)\n",
        "print(output_array)"
      ],
      "metadata": {
        "id": "I0FHlVG7COxd",
        "colab": {
          "base_uri": "https://localhost:8080/"
        },
        "outputId": "ba21c937-7917-47c9-d13e-2690780d8345"
      },
      "execution_count": 58,
      "outputs": [
        {
          "output_type": "stream",
          "name": "stdout",
          "text": [
            "1/1 [==============================] - 0s 468ms/step\n",
            "[[[-0.0198861   0.00308717]\n",
            "  [ 0.04169953  0.00088676]\n",
            "  [ 0.00484879  0.02940765]\n",
            "  [-0.00805895 -0.02865348]\n",
            "  [ 0.02818674  0.04289735]]\n",
            "\n",
            " [[-0.00805895 -0.02865348]\n",
            "  [ 0.02818674  0.04289735]\n",
            "  [-0.0198861   0.00308717]\n",
            "  [ 0.04169953  0.00088676]\n",
            "  [ 0.00484879  0.02940765]]]\n"
          ]
        }
      ]
    },
    {
      "cell_type": "code",
      "source": [
        "for i in range(len(output_array[0])):\n",
        "  for f in range(len(output_array[1])):\n",
        "    x=output_array[0][i]\n",
        "    y=output_array[1][f]\n",
        "    cos_sim=np.dot(x,y)/(np.linalg.norm(x)*np.linalg.norm(y))\n",
        "    if i==0:\n",
        "      sent1='Hope'\n",
        "    elif i==1:\n",
        "      sent1='to'\n",
        "    elif i==2:\n",
        "      sent1='see'\n",
        "    elif i==3:\n",
        "      sent1='you'\n",
        "    else:\n",
        "      sent1='soon.'\n",
        "    if f==0:\n",
        "      sent2='You'\n",
        "    elif f==1:\n",
        "      sent2='soon'\n",
        "    elif f==2:\n",
        "      sent2='hope'\n",
        "    elif f==3:\n",
        "      sent2='to'\n",
        "    else:\n",
        "      sent2='see.'\n",
        "    print(f'{sent1},{sent2}', cos_sim)\n"
      ],
      "metadata": {
        "colab": {
          "base_uri": "https://localhost:8080/"
        },
        "id": "zqWvYcCAFV61",
        "outputId": "0d6bf7ed-8b62-4feb-ddef-cf07ba07be6c"
      },
      "execution_count": 59,
      "outputs": [
        {
          "output_type": "stream",
          "name": "stdout",
          "text": [
            "Hope,You 0.119870394\n",
            "Hope,soon -0.4144323\n",
            "Hope,hope 0.99999994\n",
            "Hope,to -0.9846785\n",
            "Hope,see. -0.009398132\n",
            "to,You -0.29115602\n",
            "to,soon 0.56678194\n",
            "to,hope -0.9846785\n",
            "to,to 0.99999994\n",
            "to,see. 0.18362603\n",
            "see,You -0.9938723\n",
            "see,soon 0.9139349\n",
            "see,hope -0.009398132\n",
            "see,to 0.18362603\n",
            "see,see. 1.0\n",
            "you,You 1.0\n",
            "you,soon -0.9531963\n",
            "you,hope 0.119870394\n",
            "you,to -0.29115602\n",
            "you,see. -0.9938723\n",
            "soon.,You -0.9531963\n",
            "soon.,soon 1.0\n",
            "soon.,hope -0.4144323\n",
            "soon.,to 0.56678194\n",
            "soon.,see. 0.9139349\n"
          ]
        }
      ]
    }
  ]
}